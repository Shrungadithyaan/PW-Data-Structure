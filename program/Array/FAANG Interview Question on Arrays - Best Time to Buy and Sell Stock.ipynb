{
 "cells": [
  {
   "cell_type": "code",
   "execution_count": 2,
   "metadata": {},
   "outputs": [
    {
     "name": "stdout",
     "output_type": "stream",
     "text": [
      "The maximum profit of buy and sell the stock is: 19\n"
     ]
    }
   ],
   "source": [
    "## function definition\n",
    "## Time complexity: O(n)\n",
    "## Space complexity: O(1)\n",
    "def findmaxProfit(prices):\n",
    "    \n",
    "    min_price = float('inf')\n",
    "    max_profit = 0\n",
    "    \n",
    "    for i in range(1,len(prices)):\n",
    "        if prices[i] < min_price:\n",
    "            min_price = prices[i]\n",
    "        elif prices[i] - min_price > max_profit:\n",
    "            max_profit = prices[i] - min_price\n",
    "    return max_profit\n",
    "\n",
    "## Driver code \n",
    "prices = [7,1,5,3,6,4,15,20]\n",
    "## function calling\n",
    "maxProfit = findmaxProfit(prices)\n",
    "print(\"The maximum profit of buy and sell the stock is:\", maxProfit)"
   ]
  },
  {
   "cell_type": "code",
   "execution_count": null,
   "metadata": {},
   "outputs": [],
   "source": []
  }
 ],
 "metadata": {
  "kernelspec": {
   "display_name": "butterfly",
   "language": "python",
   "name": "python3"
  },
  "language_info": {
   "codemirror_mode": {
    "name": "ipython",
    "version": 3
   },
   "file_extension": ".py",
   "mimetype": "text/x-python",
   "name": "python",
   "nbconvert_exporter": "python",
   "pygments_lexer": "ipython3",
   "version": "3.11.4"
  }
 },
 "nbformat": 4,
 "nbformat_minor": 2
}
