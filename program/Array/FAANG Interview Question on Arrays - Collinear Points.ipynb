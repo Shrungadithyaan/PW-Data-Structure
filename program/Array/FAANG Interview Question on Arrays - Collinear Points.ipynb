{
 "cells": [
  {
   "cell_type": "code",
   "execution_count": 1,
   "metadata": {},
   "outputs": [
    {
     "name": "stdout",
     "output_type": "stream",
     "text": [
      "Given points are collinear\n"
     ]
    }
   ],
   "source": [
    "## Approach 1: Using slope concept\n",
    "## TC: O(1)\n",
    "## SC: O(1)\n",
    "## Method definition\n",
    "def iscollinearPoints(x1, x2, x3, y1, y2, y3):\n",
    "    if ((y2-y1)*(x3-x2) == (x2-x1)*(y3-y2)):\n",
    "        print(\"Given points are collinear\")\n",
    "    else:\n",
    "        print(\"Given points are not collinear\")\n",
    "## Driver code\n",
    "x1,x2,x3,y1,y2,y3 = 1, 1, 1, 6, 0, 9\n",
    "iscollinearPoints(x1, x2, x3, y1, y2, y3)"
   ]
  },
  {
   "cell_type": "code",
   "execution_count": 2,
   "metadata": {},
   "outputs": [
    {
     "name": "stdout",
     "output_type": "stream",
     "text": [
      "Given points are collinear\n"
     ]
    }
   ],
   "source": [
    "## Approach 2: Using area of triangle\n",
    "## TC: O(1)\n",
    "## SC: O(1)\n",
    "## Method definition\n",
    "def iscollinearPoints(x1, x2, x3, y1, y2, y3):\n",
    "    area = 0.5*( x1 *(y2-y1)+ x2 * (y3-y1) + x3 * (y1-y2))\n",
    "    if ((y2-y1)*(x3-x2) == (x2-x1)*(y3-y2)):\n",
    "        print(\"Given points are collinear\")\n",
    "    else:\n",
    "        print(\"Given points are not collinear\")\n",
    "## Driver code\n",
    "x1,x2,x3,y1,y2,y3 = 1, 1, 1, 6, 0, 9\n",
    "iscollinearPoints(x1, x2, x3, y1, y2, y3)"
   ]
  },
  {
   "cell_type": "code",
   "execution_count": null,
   "metadata": {},
   "outputs": [],
   "source": []
  }
 ],
 "metadata": {
  "kernelspec": {
   "display_name": "butterfly",
   "language": "python",
   "name": "python3"
  },
  "language_info": {
   "codemirror_mode": {
    "name": "ipython",
    "version": 3
   },
   "file_extension": ".py",
   "mimetype": "text/x-python",
   "name": "python",
   "nbconvert_exporter": "python",
   "pygments_lexer": "ipython3",
   "version": "3.11.4"
  }
 },
 "nbformat": 4,
 "nbformat_minor": 2
}
