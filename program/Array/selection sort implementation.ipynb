{
 "cells": [
  {
   "cell_type": "code",
   "execution_count": 4,
   "metadata": {},
   "outputs": [
    {
     "name": "stdout",
     "output_type": "stream",
     "text": [
      "Selection Sort of the given array elements is: [11, 17, 20, 29, 37, 38, 50, 75]\n"
     ]
    }
   ],
   "source": [
    "## Time Complexity : O(n^2)\n",
    "## Defining a function\n",
    "def SelectionSort(arr):\n",
    "    n = len(arr)\n",
    "    \n",
    "    for i in range(n):\n",
    "        ## to store the index of the minimum element\n",
    "        min_index = i\n",
    "        for j in range(i+1,n):\n",
    "            if arr[j] < arr[min_index]:\n",
    "                min_index = j\n",
    "        ## swap of the element at i and min_idx  \n",
    "        arr[i],arr[min_index] = arr[min_index],arr[i]    \n",
    "    return arr\n",
    "## Driver code\n",
    "\n",
    "arr = [50, 38, 75, 29, 11, 17, 20, 37]\n",
    "\n",
    "## Funcation calling\n",
    "result = SelectionSort(arr)\n",
    "print(\"Selection Sort of the given array elements is:\",result)"
   ]
  },
  {
   "cell_type": "code",
   "execution_count": null,
   "metadata": {},
   "outputs": [],
   "source": []
  }
 ],
 "metadata": {
  "kernelspec": {
   "display_name": "butterfly",
   "language": "python",
   "name": "python3"
  },
  "language_info": {
   "codemirror_mode": {
    "name": "ipython",
    "version": 3
   },
   "file_extension": ".py",
   "mimetype": "text/x-python",
   "name": "python",
   "nbconvert_exporter": "python",
   "pygments_lexer": "ipython3",
   "version": "3.11.4"
  }
 },
 "nbformat": 4,
 "nbformat_minor": 2
}
