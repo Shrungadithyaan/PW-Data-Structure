{
 "cells": [
  {
   "cell_type": "code",
   "execution_count": 12,
   "metadata": {},
   "outputs": [
    {
     "name": "stdout",
     "output_type": "stream",
     "text": [
      "The Final Result : 8\n"
     ]
    }
   ],
   "source": [
    "## Binary Search Implementation \n",
    "## Function\n",
    "## Time complexity o(log n)\n",
    "def BinarySearch(arr,i,j,x):\n",
    "    while i <= j:\n",
    "        mid = i + (j-i) // 2\n",
    "        if arr[mid] == x:\n",
    "            return mid\n",
    "        elif arr[mid] < x:\n",
    "            ## recursion -> calling a function agin and again with different set of parameter\n",
    "            return BinarySearch(arr, mid+1, j, x)\n",
    "        else:\n",
    "            return BinarySearch(arr,i,mid-1,x)\n",
    "        \n",
    "    return -1   \n",
    "\n",
    "\n",
    "## Driver Code \n",
    "## Sorted array\n",
    "arr = [2,4,5,7,10,24,35,46,56]\n",
    "i = 0\n",
    "j = len(arr) -1\n",
    "x = 56\n",
    "## Function call\n",
    "result = BinarySearch(arr,i,j,x)\n",
    "print(\"The Final Result :\", result)\n"
   ]
  },
  {
   "cell_type": "code",
   "execution_count": 11,
   "metadata": {},
   "outputs": [
    {
     "name": "stdout",
     "output_type": "stream",
     "text": [
      "The Final Result : 2\n"
     ]
    }
   ],
   "source": [
    "## Binary Search Implementation \n",
    "## Function\n",
    "def BinarySearch(arr,i,j,x):\n",
    "    while i <= j:\n",
    "        mid = i + (j-i) // 2\n",
    "        if arr[mid] == x:\n",
    "            return mid\n",
    "        elif arr[mid] < x:\n",
    "            ## recursion -> calling a function agin and again with different set of parameter\n",
    "            i = mid + 1\n",
    "        else:\n",
    "            j = mid - 1\n",
    "        \n",
    "    return -1   \n",
    "\n",
    "\n",
    "## Driver Code \n",
    "## Sorted array\n",
    "arr = [2,4,5,7,10,24,35,46,56]\n",
    "i = 0\n",
    "j = len(arr) -1\n",
    "x = 5\n",
    "## Function call\n",
    "result = BinarySearch(arr,i,j,x)\n",
    "print(\"The Final Result :\", result)\n"
   ]
  },
  {
   "cell_type": "code",
   "execution_count": null,
   "metadata": {},
   "outputs": [],
   "source": []
  }
 ],
 "metadata": {
  "kernelspec": {
   "display_name": "butterfly",
   "language": "python",
   "name": "python3"
  },
  "language_info": {
   "codemirror_mode": {
    "name": "ipython",
    "version": 3
   },
   "file_extension": ".py",
   "mimetype": "text/x-python",
   "name": "python",
   "nbconvert_exporter": "python",
   "pygments_lexer": "ipython3",
   "version": "3.11.4"
  },
  "orig_nbformat": 4
 },
 "nbformat": 4,
 "nbformat_minor": 2
}
